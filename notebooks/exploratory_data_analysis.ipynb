{
 "cells": [
  {
   "cell_type": "markdown",
   "metadata": {},
   "source": [
    "# Predator Prey Agent-based modelling\n",
    "\n",
    "There are a lot of possible ABMs for any given phenomenon. cadCAD allows you to add, modify and remove simulation blocks and steps at will.\n",
    "\n",
    "For this demo, we'll adopt a model based on a grid world, on which preys and predators take the following actions at each timestep of their lifes:\n",
    "\n",
    "1. Food is grown on every site.\n",
    "2. All agents digest some of the food on their stomach and get older.\n",
    "3. All agents move (if possible) to an available random neighboring location.\n",
    "4. The agents reproduce themselves if there is an available partner nearby\n",
    "5. The prey agents feed on the available food\n",
    "6. The predator agents hunts the nearby preys\n",
    "7. All old enough agents die\n",
    "\n",
    "There is an inherent stochastic nature on this model, and every time that you run it, we'll have a completely different result for the same parameters. But we can see that there is sort of a random equilibrium that converges to the dynamical equilibrium which we presented on the dynamical simulation.\n",
    "\n",
    "ABMs tend to produce rich, high density datasets. We'll plot some of this data, but invite the reader to fork this repository and trace the network relations between the agents, or the geospatial statistics around the ABM, for example."
   ]
  },
  {
   "cell_type": "code",
   "execution_count": 2,
   "metadata": {},
   "outputs": [],
   "source": [
    "import pandas as pd\n",
    "import sys\n",
    "import numpy as np\n",
    "import os\n",
    "import plotly.express as px\n",
    "\n",
    "\n",
    "sys.path.append('../')"
   ]
  },
  {
   "cell_type": "code",
   "execution_count": 3,
   "metadata": {},
   "outputs": [
    {
     "name": "stdout",
     "output_type": "stream",
     "text": [
      "../data/simulation_output/2022-02-16_22-53-35.pkl.gz\n"
     ]
    }
   ],
   "source": [
    "DATA_PATH = '../data/simulation_output/'\n",
    "files = sorted(f for f in os.listdir(DATA_PATH) if 'pkl.gz' in f)\n",
    "last_file = files[0]\n",
    "FILE_PATH = DATA_PATH + last_file\n",
    "print(FILE_PATH)"
   ]
  },
  {
   "cell_type": "code",
   "execution_count": 4,
   "metadata": {},
   "outputs": [
    {
     "data": {
      "text/html": [
       "<div>\n",
       "<style scoped>\n",
       "    .dataframe tbody tr th:only-of-type {\n",
       "        vertical-align: middle;\n",
       "    }\n",
       "\n",
       "    .dataframe tbody tr th {\n",
       "        vertical-align: top;\n",
       "    }\n",
       "\n",
       "    .dataframe thead th {\n",
       "        text-align: right;\n",
       "    }\n",
       "</style>\n",
       "<table border=\"1\" class=\"dataframe\">\n",
       "  <thead>\n",
       "    <tr style=\"text-align: right;\">\n",
       "      <th></th>\n",
       "      <th>timestep</th>\n",
       "      <th>players</th>\n",
       "      <th>actions</th>\n",
       "      <th>past_actions</th>\n",
       "      <th>payoffs</th>\n",
       "      <th>payoff_tensor</th>\n",
       "      <th>simulation</th>\n",
       "      <th>subset</th>\n",
       "      <th>run</th>\n",
       "    </tr>\n",
       "  </thead>\n",
       "  <tbody>\n",
       "    <tr>\n",
       "      <th>0</th>\n",
       "      <td>0</td>\n",
       "      <td>[Player(player_no=0, likelihood_vector={0: 0.5...</td>\n",
       "      <td>{}</td>\n",
       "      <td>{0: [], 1: []}</td>\n",
       "      <td>{}</td>\n",
       "      <td>[[[1.0, 0.5], [0.5, 0.1]], [[1.0, 0.5], [0.5, ...</td>\n",
       "      <td>0</td>\n",
       "      <td>0</td>\n",
       "      <td>1</td>\n",
       "    </tr>\n",
       "    <tr>\n",
       "      <th>2</th>\n",
       "      <td>1</td>\n",
       "      <td>[Player(player_no=0, likelihood_vector=(0.5, 0...</td>\n",
       "      <td>{0: 1, 1: 1}</td>\n",
       "      <td>{0: [1], 1: [1]}</td>\n",
       "      <td>{0: 0.1, 1: 0.1}</td>\n",
       "      <td>[[[1.0, 0.5], [0.5, 0.1]], [[1.0, 0.5], [0.5, ...</td>\n",
       "      <td>0</td>\n",
       "      <td>0</td>\n",
       "      <td>1</td>\n",
       "    </tr>\n",
       "  </tbody>\n",
       "</table>\n",
       "</div>"
      ],
      "text/plain": [
       "   timestep                                            players       actions  \\\n",
       "0         0  [Player(player_no=0, likelihood_vector={0: 0.5...            {}   \n",
       "2         1  [Player(player_no=0, likelihood_vector=(0.5, 0...  {0: 1, 1: 1}   \n",
       "\n",
       "       past_actions           payoffs  \\\n",
       "0    {0: [], 1: []}                {}   \n",
       "2  {0: [1], 1: [1]}  {0: 0.1, 1: 0.1}   \n",
       "\n",
       "                                       payoff_tensor  simulation  subset run  \n",
       "0  [[[1.0, 0.5], [0.5, 0.1]], [[1.0, 0.5], [0.5, ...           0       0   1  \n",
       "2  [[[1.0, 0.5], [0.5, 0.1]], [[1.0, 0.5], [0.5, ...           0       0   1  "
      ]
     },
     "execution_count": 4,
     "metadata": {},
     "output_type": "execute_result"
    }
   ],
   "source": [
    "sim_df = pd.read_pickle(FILE_PATH).assign(run=lambda df: df.run.astype(str))\n",
    "sim_df.head(2)"
   ]
  },
  {
   "cell_type": "markdown",
   "metadata": {},
   "source": []
  }
 ],
 "metadata": {
  "interpreter": {
   "hash": "e7cb1b9ae4d417fedf7f40a8eec98f7cfbd359e096bd857395a915f4609834ce"
  },
  "kernelspec": {
   "display_name": "Python 3 (ipykernel)",
   "language": "python",
   "name": "python3"
  },
  "language_info": {
   "codemirror_mode": {
    "name": "ipython",
    "version": 3
   },
   "file_extension": ".py",
   "mimetype": "text/x-python",
   "name": "python",
   "nbconvert_exporter": "python",
   "pygments_lexer": "ipython3",
   "version": "3.9.5"
  }
 },
 "nbformat": 4,
 "nbformat_minor": 4
}
